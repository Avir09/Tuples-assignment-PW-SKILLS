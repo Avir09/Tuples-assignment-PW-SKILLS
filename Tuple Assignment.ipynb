{
 "cells": [
  {
   "cell_type": "raw",
   "id": "80bf74f8-da11-446b-ab58-bc95dd4ea73f",
   "metadata": {},
   "source": [
    "Q.1\n",
    "In Python, a tuple is an ordered, immutable sequence of elements."
   ]
  },
  {
   "cell_type": "raw",
   "id": "e57aa32b-46d6-4dfe-b4c8-248c6b6d44ad",
   "metadata": {},
   "source": [
    "Q.2\n",
    "In Python, you can create a tuple using parentheses () and separating the elements with commas. Here's an example:\n",
    "tuple1=(1,2,3)\n",
    "print(tuple1)\n",
    "output is: (1,2,3)"
   ]
  },
  {
   "cell_type": "raw",
   "id": "3db0c842-19c8-443f-8489-d55846eec759",
   "metadata": {},
   "source": [
    "Q.3\n",
    " Tuples are very similar to lists, but the main difference is that tuples cannot be modified once they are created."
   ]
  },
  {
   "cell_type": "raw",
   "id": "2ef85f88-b3ca-409e-b939-c701df325197",
   "metadata": {},
   "source": [
    "Q.4\n",
    "No, a tuple in Python is immutable, which means that once it is created, you cannot change its values. This is one of the main differences between tuples and lists."
   ]
  },
  {
   "cell_type": "raw",
   "id": "2b11f58c-90a9-417a-bd60-023c5fbb4cb2",
   "metadata": {},
   "source": [
    "Q.5\n",
    "You can access elements in a tuple using indexing, which means referring to an element by its position or index number. The index of the first element in a tuple is 0, the second element is 1, and so on.\n",
    "As a example,\n",
    "my_tuple = (1, 2, 3)\n",
    "print(my_tuple[0]) # output: 1\n",
    "print(my_tuple[1]) # output: 2\n",
    "print(my_tuple[2]) # output: 3"
   ]
  },
  {
   "cell_type": "raw",
   "id": "f8829407-e446-4cab-838a-13950fd17a4e",
   "metadata": {},
   "source": [
    "Q.6\n",
    "Unpacking a tuple means assigning the values of the elements in a tuple to individual variables. You can do this by listing the variables on the left-hand side of an assignment statement (=) and the tuple on the right-hand side. The variables should match the number of elements in the tuple. Here's an example:\n",
    "my_tuple = (1, 2, 3)\n",
    "a, b, c = my_tuple\n",
    "print(a) # output: 1\n",
    "print(b) # output: 2\n",
    "print(c) # output: 3"
   ]
  }
 ],
 "metadata": {
  "kernelspec": {
   "display_name": "Python 3 (ipykernel)",
   "language": "python",
   "name": "python3"
  },
  "language_info": {
   "codemirror_mode": {
    "name": "ipython",
    "version": 3
   },
   "file_extension": ".py",
   "mimetype": "text/x-python",
   "name": "python",
   "nbconvert_exporter": "python",
   "pygments_lexer": "ipython3",
   "version": "3.10.8"
  }
 },
 "nbformat": 4,
 "nbformat_minor": 5
}
